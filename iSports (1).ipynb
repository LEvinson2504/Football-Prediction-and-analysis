{
 "cells": [
  {
   "cell_type": "code",
   "execution_count": 1,
   "metadata": {},
   "outputs": [],
   "source": [
    "#!/usr/bin/python\n",
    "# -*- coding: utf-8 -*-\n",
    "#import dependencies\n",
    "import urllib.request\n",
    "import json"
   ]
  },
  {
   "cell_type": "code",
   "execution_count": 2,
   "metadata": {},
   "outputs": [],
   "source": [
    "#define funtion\n",
    "def SportDemo():\n",
    "    # Set url parameter\n",
    "    api_key = \"DnlcxmkVJohaYaDd\"\n",
    "    #odds\n",
    "    #url = \"http://api.isportsapi.com/sport/free/football/odds/main?api_key=\" + api_key\n",
    "    \n",
    "    #livescores\n",
    "    url = \"http://api.isportsapi.com/sport/free/football/livescores?api_key=\" + api_key\n",
    "\n",
    "    print(url)\n",
    "\n",
    "    # Call iSport Api to get data in json format\n",
    "    f = urllib.request.urlopen(url)\n",
    "    content = f.read()\n",
    "    \n",
    "    #print(content.decode('utf-8'))\n",
    "    data = json.loads((content.decode('utf-8')))\n",
    "    #print(data)\n",
    "    for match in data['data']:\n",
    "        if (match['leagueName'] == 'ENG U23 D1'):\n",
    "            print(match['homeName'] + ' vs ' + match['awayName'])\n",
    "    \n",
    "    #for score in data['data']:\n",
    "    #   print(score['homeScore'])\n",
    "    "
   ]
  },
  {
   "cell_type": "code",
   "execution_count": 16,
   "metadata": {},
   "outputs": [
    {
     "name": "stdout",
     "output_type": "stream",
     "text": [
      "http://api.isportsapi.com/sport/free/football/livescores?api_key=DnlcxmkVJohaYaDd\n",
      "Barnsley U23 vs Crystal Palace U23\n",
      "Sheffield Utd U23 vs Charlton U23\n",
      "Sheffield Wed U23 vs Colchester United U23\n",
      "Burnley U23 vs Queens Park Rangers U23\n",
      "Bolton Wanderers U23 vs Millwall U23\n"
     ]
    }
   ],
   "source": [
    "SportDemo()"
   ]
  },
  {
   "cell_type": "code",
   "execution_count": 27,
   "metadata": {},
   "outputs": [
    {
     "name": "stdout",
     "output_type": "stream",
     "text": [
      "Barnsley U23 - 2 vs 0 - Crystal Palace U23\n",
      "Sheffield Utd U23 - 3 vs 3 - Charlton U23\n",
      "Sheffield Wed U23 - 1 vs 1 - Colchester United U23\n",
      "Burnley U23 - 0 vs 0 - Queens Park Rangers U23\n",
      "Bolton Wanderers U23 - 0 vs 0 - Millwall U23\n"
     ]
    }
   ],
   "source": [
    "#python json tutorial\n",
    "# Set url parameter\n",
    "api_key = \"DnlcxmkVJohaYaDd\"\n",
    "#odds\n",
    "#url = \"http://api.isportsapi.com/sport/free/football/odds/main?api_key=\" + api_key\n",
    "    \n",
    "#livescores\n",
    "url = \"http://api.isportsapi.com/sport/free/football/livescores?api_key=\" + api_key\n",
    "#print(url)\n",
    "\n",
    "# Call iSport Api to get data in json format\n",
    "f = urllib.request.urlopen(url)\n",
    "content = f.read()\n",
    "    \n",
    "#print(content.decode('utf-8'))\n",
    "data = json.loads((content.decode('utf-8')))\n",
    "#print(type(data))\n",
    "#print(data)\n",
    "\n",
    "for team in data['data']:\n",
    "    if (team['leagueName'] == 'ENG U23 D1'):\n",
    "        print(\"%s - %s vs %s - %s\" % (team['homeName'], team['homeScore'], team['awayScore'], team['awayName']))"
   ]
  },
  {
   "cell_type": "code",
   "execution_count": 17,
   "metadata": {},
   "outputs": [
    {
     "name": "stdout",
     "output_type": "stream",
     "text": [
      "Liverpool - 0 vs 0 - Newcastle United -- 0680271\n",
      "Tottenham Hotspur - 0 vs 0 - Crystal Palace -- 3580271\n",
      "Brighton   Hove Albion - 0 vs 0 - Burnley -- 4580271\n",
      "Wolves - 0 vs 0 - Chelsea -- 7580271\n",
      "Manchester United - 0 vs 0 - Leicester City -- 8580271\n",
      "Sheffield United - 0 vs 0 - Southampton -- 2680271\n",
      "Norwich City - 0 vs 0 - Manchester City -- 5580271\n"
     ]
    }
   ],
   "source": [
    "#Matches on a day, get match id\n",
    "#!/usr/bin/python\n",
    "# -*- coding: utf-8 -*-\n",
    "import urllib.request\n",
    "\n",
    "def SportDemo():\n",
    "    # Set url parameter\n",
    "    api_key = \"DnlcxmkVJohaYaDd\"\n",
    "    date = \"2019-09-14\"\n",
    "    #url = \"http://api.isportsapi.com/sport/free/football/schedule?api_key=<YOUR_API_KEY>&date=yyyy-mm-dd\"\n",
    "    url = \"http://api.isportsapi.com/sport/free/football/schedule?api_key=\" + api_key + \"&date=\" + date\n",
    "\n",
    "    # Call iSport Api to get data in json format\n",
    "    f = urllib.request.urlopen(url)\n",
    "    content = f.read()\n",
    "    \n",
    "    #print(content.decode('utf-8'))\n",
    "    \n",
    "    data = json.loads((content.decode('utf-8')))\n",
    "    #print(type(data))\n",
    "    #print(data)\n",
    "    \n",
    "    #English teams match id\n",
    "    for team in data['data']:\n",
    "        if (team['leagueName'] == 'English Premier League'):\n",
    "            print(\"%s - %s vs %s - %s -- %s\" % (team['homeName'], team['homeScore'], team['awayScore'], team['awayName'], team['matchId']))\n",
    "\n",
    "\n",
    "SportDemo()"
   ]
  },
  {
   "cell_type": "code",
   "execution_count": 16,
   "metadata": {},
   "outputs": [
    {
     "ename": "TypeError",
     "evalue": "string indices must be integers",
     "output_type": "error",
     "traceback": [
      "\u001b[1;31m---------------------------------------------------------------------------\u001b[0m",
      "\u001b[1;31mTypeError\u001b[0m                                 Traceback (most recent call last)",
      "\u001b[1;32m<ipython-input-16-7e1f368b6c49>\u001b[0m in \u001b[0;36m<module>\u001b[1;34m\u001b[0m\n\u001b[0;32m     19\u001b[0m \u001b[1;33m\u001b[0m\u001b[0m\n\u001b[0;32m     20\u001b[0m \u001b[1;33m\u001b[0m\u001b[0m\n\u001b[1;32m---> 21\u001b[1;33m \u001b[0mSportDemo\u001b[0m\u001b[1;33m(\u001b[0m\u001b[1;33m)\u001b[0m\u001b[1;33m\u001b[0m\u001b[1;33m\u001b[0m\u001b[0m\n\u001b[0m",
      "\u001b[1;32m<ipython-input-16-7e1f368b6c49>\u001b[0m in \u001b[0;36mSportDemo\u001b[1;34m()\u001b[0m\n\u001b[0;32m     16\u001b[0m \u001b[1;33m\u001b[0m\u001b[0m\n\u001b[0;32m     17\u001b[0m     \u001b[1;32mfor\u001b[0m \u001b[0modds\u001b[0m \u001b[1;32min\u001b[0m \u001b[0mdata\u001b[0m\u001b[1;33m[\u001b[0m\u001b[1;34m'data'\u001b[0m\u001b[1;33m]\u001b[0m\u001b[1;33m:\u001b[0m\u001b[1;33m\u001b[0m\u001b[1;33m\u001b[0m\u001b[0m\n\u001b[1;32m---> 18\u001b[1;33m         \u001b[0mprint\u001b[0m\u001b[1;33m(\u001b[0m\u001b[0modds\u001b[0m\u001b[1;33m[\u001b[0m\u001b[1;34m'matchId'\u001b[0m\u001b[1;33m]\u001b[0m\u001b[1;33m)\u001b[0m\u001b[1;33m\u001b[0m\u001b[1;33m\u001b[0m\u001b[0m\n\u001b[0m\u001b[0;32m     19\u001b[0m \u001b[1;33m\u001b[0m\u001b[0m\n\u001b[0;32m     20\u001b[0m \u001b[1;33m\u001b[0m\u001b[0m\n",
      "\u001b[1;31mTypeError\u001b[0m: string indices must be integers"
     ]
    }
   ],
   "source": [
    "#Match odds\n",
    "#!/usr/bin/python\n",
    "# -*- coding: utf-8 -*-\n",
    "import urllib.request\n",
    "\n",
    "def SportDemo():\n",
    "    # Set url parameter\n",
    "    api_key = \"DnlcxmkVJohaYaDd\"\n",
    "    url = \"http://api.isportsapi.com/sport/free/football/odds/main?api_key=\" + api_key\n",
    "\n",
    "    # Call iSport Api to get data in json format\n",
    "    f = urllib.request.urlopen(url)\n",
    "    content = f.read()\n",
    "    data = json.loads((content.decode('utf-8')))\n",
    "    #print(content.decode('utf-8'))\n",
    "    \n",
    "    for odds in data['data']:\n",
    "        print(odds['matchId'])\n",
    "\n",
    "\n",
    "SportDemo()"
   ]
  },
  {
   "cell_type": "code",
   "execution_count": null,
   "metadata": {},
   "outputs": [],
   "source": []
  },
  {
   "cell_type": "code",
   "execution_count": null,
   "metadata": {},
   "outputs": [],
   "source": []
  }
 ],
 "metadata": {
  "kernelspec": {
   "display_name": "Python 3",
   "language": "python",
   "name": "python3"
  },
  "language_info": {
   "codemirror_mode": {
    "name": "ipython",
    "version": 3
   },
   "file_extension": ".py",
   "mimetype": "text/x-python",
   "name": "python",
   "nbconvert_exporter": "python",
   "pygments_lexer": "ipython3",
   "version": "3.7.4"
  }
 },
 "nbformat": 4,
 "nbformat_minor": 2
}
